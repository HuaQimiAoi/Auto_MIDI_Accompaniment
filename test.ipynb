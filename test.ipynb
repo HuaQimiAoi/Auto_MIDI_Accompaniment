{
 "cells": [
  {
   "cell_type": "code",
   "execution_count": 17,
   "id": "initial_id",
   "metadata": {
    "ExecuteTime": {
     "end_time": "2023-12-25T04:03:01.317568Z",
     "start_time": "2023-12-25T04:03:01.314156Z"
    }
   },
   "outputs": [],
   "source": [
    "import pretty_midi"
   ]
  },
  {
   "cell_type": "code",
   "execution_count": 2,
   "id": "86c50898b7a89b76",
   "metadata": {
    "ExecuteTime": {
     "end_time": "2023-12-23T07:11:04.031037Z",
     "start_time": "2023-12-23T07:11:04.028485Z"
    }
   },
   "outputs": [],
   "source": [
    "src_folder='./ultimate_aligned_dataset_16/'"
   ]
  },
  {
   "cell_type": "code",
   "execution_count": 18,
   "id": "2c7cd9d728465f84",
   "metadata": {
    "ExecuteTime": {
     "end_time": "2023-12-25T04:03:02.879703Z",
     "start_time": "2023-12-25T04:03:02.872200Z"
    }
   },
   "outputs": [],
   "source": [
    "def program_change(midiFile):\n",
    "    midi_data=pretty_midi.PrettyMIDI(midiFile)\n",
    "    instruments_count=len(midi_data.instruments)\n",
    "    for i in range(instruments_count):\n",
    "        ##鼓\n",
    "        if midi_data.instruments[i].is_drum:\n",
    "            midi_data.instruments[i].program=0\n",
    "            midi_data.instruments[i].name=\"Drum_Track\"\n",
    "        ##原声钢琴\n",
    "        elif midi_data.instruments[i].program>=0 and midi_data.instruments[i].program<=7:\n",
    "            midi_data.instruments[i].program=0 \n",
    "        ##尼龙吉他\n",
    "        elif midi_data.instruments[i].program>=24 and midi_data.instruments[i].program<=25:\n",
    "            midi_data.instruments[i].program=24 \n",
    "        #清音电吉他\n",
    "        elif midi_data.instruments[i].program>=26 and midi_data.instruments[i].program<=28:\n",
    "            midi_data.instruments[i].program=27 \n",
    "        #失真电吉他\n",
    "        elif midi_data.instruments[i].program>=29 and midi_data.instruments[i].program<=31:\n",
    "            midi_data.instruments[i].program=30\n",
    "        #指弹电贝斯\n",
    "        elif (midi_data.instruments[i].program>=32 and midi_data.instruments[i].program<=35) or (midi_data.instruments[i].program>=38 and midi_data.instruments[i].program<=39):\n",
    "            midi_data.instruments[i].program=33\n",
    "        #slap电贝斯\n",
    "        elif midi_data.instruments[i].program>=36 and midi_data.instruments[i].program<=37:\n",
    "            midi_data.instruments[i].program=36   \n",
    "    return midi_data"
   ]
  },
  {
   "cell_type": "code",
   "execution_count": 16,
   "id": "3580a817",
   "metadata": {},
   "outputs": [
    {
     "name": "stderr",
     "output_type": "stream",
     "text": [
      "processing: 100%|██████████████████████████████████████████████████████████████| 10530/10530 [21:20<00:00,  8.22midi/s]\n"
     ]
    },
    {
     "data": {
      "text/plain": [
       "7338"
      ]
     },
     "execution_count": 16,
     "metadata": {},
     "output_type": "execute_result"
    }
   ],
   "source": [
    "import os \n",
    "from tqdm import tqdm\n",
    "sum=0\n",
    "for _,_,filenames in os.walk(src_folder):\n",
    "    for filename in tqdm(filenames,desc=\"processing\",unit=\"midi\"):\n",
    "        drum_count=0\n",
    "        midi_data=pretty_midi.PrettyMIDI(f\"{src_folder}{filename}\")\n",
    "        for instrument in midi_data.instruments:\n",
    "            if instrument.is_drum:\n",
    "                drum_count=drum_count+1\n",
    "        if drum_count==1:\n",
    "            sum=sum+1\n",
    "sum"
   ]
  },
  {
   "cell_type": "code",
   "execution_count": 25,
   "id": "a01215f7",
   "metadata": {},
   "outputs": [
    {
     "name": "stderr",
     "output_type": "stream",
     "text": [
      "processing: 100%|██████████████████████████████████████████████████████████████| 10530/10530 [22:56<00:00,  7.65midi/s]\n"
     ]
    },
    {
     "data": {
      "text/plain": [
       "7338"
      ]
     },
     "execution_count": 25,
     "metadata": {},
     "output_type": "execute_result"
    }
   ],
   "source": [
    "import os \n",
    "from tqdm import tqdm\n",
    "import shutil\n",
    "src_folder=\"./ultimate_aligned_dataset_16/\"\n",
    "tgt_folder=\"./ultimate_dataset_16_one_drum/\"\n",
    "count=0\n",
    "for _,_,filenames in os.walk(src_folder):\n",
    "    for filename in tqdm(filenames,desc=\"processing\",unit=\"midi\"):\n",
    "        drum_count=0\n",
    "        midi_data=pretty_midi.PrettyMIDI(f\"{src_folder}{filename}\")\n",
    "        for instrument in midi_data.instruments:\n",
    "            if instrument.is_drum:\n",
    "                drum_count=drum_count+1\n",
    "        if drum_count==1:\n",
    "            shutil.copy(f\"{src_folder}{filename}\",f\"{tgt_folder}{count}.mid\")\n",
    "            count=count+1\n",
    "count"
   ]
  },
  {
   "cell_type": "code",
   "execution_count": 19,
   "id": "f4251ed9",
   "metadata": {
    "ExecuteTime": {
     "end_time": "2023-12-25T04:07:04.570848Z",
     "start_time": "2023-12-25T04:04:26.713914Z"
    }
   },
   "outputs": [
    {
     "name": "stderr",
     "output_type": "stream",
     "text": [
      "processing:  15%|█▌        | 1108/7338 [02:37<14:47,  7.02midi/s]\n"
     ]
    },
    {
     "ename": "KeyboardInterrupt",
     "evalue": "",
     "output_type": "error",
     "traceback": [
      "\u001B[0;31m---------------------------------------------------------------------------\u001B[0m",
      "\u001B[0;31mKeyboardInterrupt\u001B[0m                         Traceback (most recent call last)",
      "Cell \u001B[0;32mIn[19], line 9\u001B[0m\n\u001B[1;32m      7\u001B[0m     \u001B[38;5;28;01mfor\u001B[39;00m filename \u001B[38;5;129;01min\u001B[39;00m tqdm(filenames,desc\u001B[38;5;241m=\u001B[39m\u001B[38;5;124m\"\u001B[39m\u001B[38;5;124mprocessing\u001B[39m\u001B[38;5;124m\"\u001B[39m,unit\u001B[38;5;241m=\u001B[39m\u001B[38;5;124m\"\u001B[39m\u001B[38;5;124mmidi\u001B[39m\u001B[38;5;124m\"\u001B[39m):\n\u001B[1;32m      8\u001B[0m         midi_data\u001B[38;5;241m=\u001B[39mprogram_change(\u001B[38;5;124mf\u001B[39m\u001B[38;5;124m\"\u001B[39m\u001B[38;5;132;01m{\u001B[39;00msrc_folder\u001B[38;5;132;01m}\u001B[39;00m\u001B[38;5;132;01m{\u001B[39;00mfilename\u001B[38;5;132;01m}\u001B[39;00m\u001B[38;5;124m\"\u001B[39m)\n\u001B[0;32m----> 9\u001B[0m         \u001B[43mmidi_data\u001B[49m\u001B[38;5;241;43m.\u001B[39;49m\u001B[43mwrite\u001B[49m\u001B[43m(\u001B[49m\u001B[38;5;124;43mf\u001B[39;49m\u001B[38;5;124;43m\"\u001B[39;49m\u001B[38;5;132;43;01m{\u001B[39;49;00m\u001B[43mtgt_folder\u001B[49m\u001B[38;5;132;43;01m}\u001B[39;49;00m\u001B[38;5;132;43;01m{\u001B[39;49;00m\u001B[43mfilename\u001B[49m\u001B[38;5;132;43;01m}\u001B[39;49;00m\u001B[38;5;124;43m\"\u001B[39;49m\u001B[43m)\u001B[49m\n\u001B[1;32m     10\u001B[0m         count\u001B[38;5;241m=\u001B[39mcount\u001B[38;5;241m+\u001B[39m\u001B[38;5;241m1\u001B[39m\n\u001B[1;32m     11\u001B[0m count\n",
      "File \u001B[0;32m~/anaconda3/lib/python3.10/site-packages/pretty_midi/pretty_midi.py:1425\u001B[0m, in \u001B[0;36mPrettyMIDI.write\u001B[0;34m(self, filename)\u001B[0m\n\u001B[1;32m   1419\u001B[0m     track\u001B[38;5;241m.\u001B[39mappend(mido\u001B[38;5;241m.\u001B[39mMessage(\n\u001B[1;32m   1420\u001B[0m         \u001B[38;5;124m'\u001B[39m\u001B[38;5;124mcontrol_change\u001B[39m\u001B[38;5;124m'\u001B[39m,\n\u001B[1;32m   1421\u001B[0m         time\u001B[38;5;241m=\u001B[39m\u001B[38;5;28mself\u001B[39m\u001B[38;5;241m.\u001B[39mtime_to_tick(control_change\u001B[38;5;241m.\u001B[39mtime),\n\u001B[1;32m   1422\u001B[0m         channel\u001B[38;5;241m=\u001B[39mchannel, control\u001B[38;5;241m=\u001B[39mcontrol_change\u001B[38;5;241m.\u001B[39mnumber,\n\u001B[1;32m   1423\u001B[0m         value\u001B[38;5;241m=\u001B[39mcontrol_change\u001B[38;5;241m.\u001B[39mvalue))\n\u001B[1;32m   1424\u001B[0m \u001B[38;5;66;03m# Sort all the events using the event_compare comparator.\u001B[39;00m\n\u001B[0;32m-> 1425\u001B[0m track \u001B[38;5;241m=\u001B[39m \u001B[38;5;28;43msorted\u001B[39;49m\u001B[43m(\u001B[49m\u001B[43mtrack\u001B[49m\u001B[43m,\u001B[49m\u001B[43m \u001B[49m\u001B[43mkey\u001B[49m\u001B[38;5;241;43m=\u001B[39;49m\u001B[43mfunctools\u001B[49m\u001B[38;5;241;43m.\u001B[39;49m\u001B[43mcmp_to_key\u001B[49m\u001B[43m(\u001B[49m\u001B[43mevent_compare\u001B[49m\u001B[43m)\u001B[49m\u001B[43m)\u001B[49m\n\u001B[1;32m   1427\u001B[0m \u001B[38;5;66;03m# If there's a note off event and a note on event with the same\u001B[39;00m\n\u001B[1;32m   1428\u001B[0m \u001B[38;5;66;03m# tick and pitch, put the note off event first\u001B[39;00m\n\u001B[1;32m   1429\u001B[0m \u001B[38;5;28;01mfor\u001B[39;00m n, (event1, event2) \u001B[38;5;129;01min\u001B[39;00m \u001B[38;5;28menumerate\u001B[39m(\u001B[38;5;28mzip\u001B[39m(track[:\u001B[38;5;241m-\u001B[39m\u001B[38;5;241m1\u001B[39m], track[\u001B[38;5;241m1\u001B[39m:])):\n",
      "File \u001B[0;32m~/anaconda3/lib/python3.10/site-packages/pretty_midi/pretty_midi.py:1323\u001B[0m, in \u001B[0;36mPrettyMIDI.write.<locals>.event_compare\u001B[0;34m(event1, event2)\u001B[0m\n\u001B[1;32m   1305\u001B[0m secondary_sort \u001B[38;5;241m=\u001B[39m {\n\u001B[1;32m   1306\u001B[0m     \u001B[38;5;124m'\u001B[39m\u001B[38;5;124mset_tempo\u001B[39m\u001B[38;5;124m'\u001B[39m: \u001B[38;5;28;01mlambda\u001B[39;00m e: (\u001B[38;5;241m1\u001B[39m \u001B[38;5;241m*\u001B[39m \u001B[38;5;241m256\u001B[39m \u001B[38;5;241m*\u001B[39m \u001B[38;5;241m256\u001B[39m),\n\u001B[1;32m   1307\u001B[0m     \u001B[38;5;124m'\u001B[39m\u001B[38;5;124mtime_signature\u001B[39m\u001B[38;5;124m'\u001B[39m: \u001B[38;5;28;01mlambda\u001B[39;00m e: (\u001B[38;5;241m2\u001B[39m \u001B[38;5;241m*\u001B[39m \u001B[38;5;241m256\u001B[39m \u001B[38;5;241m*\u001B[39m \u001B[38;5;241m256\u001B[39m),\n\u001B[0;32m   (...)\u001B[0m\n\u001B[1;32m   1318\u001B[0m     \u001B[38;5;124m'\u001B[39m\u001B[38;5;124mend_of_track\u001B[39m\u001B[38;5;124m'\u001B[39m: \u001B[38;5;28;01mlambda\u001B[39;00m e: (\u001B[38;5;241m11\u001B[39m \u001B[38;5;241m*\u001B[39m \u001B[38;5;241m256\u001B[39m \u001B[38;5;241m*\u001B[39m \u001B[38;5;241m256\u001B[39m)\n\u001B[1;32m   1319\u001B[0m }\n\u001B[1;32m   1320\u001B[0m \u001B[38;5;66;03m# If the events have the same tick, and both events have types\u001B[39;00m\n\u001B[1;32m   1321\u001B[0m \u001B[38;5;66;03m# which appear in the secondary_sort dictionary, use the dictionary\u001B[39;00m\n\u001B[1;32m   1322\u001B[0m \u001B[38;5;66;03m# to determine their ordering.\u001B[39;00m\n\u001B[0;32m-> 1323\u001B[0m \u001B[38;5;28;01mif\u001B[39;00m (event1\u001B[38;5;241m.\u001B[39mtime \u001B[38;5;241m==\u001B[39m event2\u001B[38;5;241m.\u001B[39mtime \u001B[38;5;129;01mand\u001B[39;00m\n\u001B[1;32m   1324\u001B[0m         event1\u001B[38;5;241m.\u001B[39mtype \u001B[38;5;129;01min\u001B[39;00m secondary_sort \u001B[38;5;129;01mand\u001B[39;00m\n\u001B[1;32m   1325\u001B[0m         event2\u001B[38;5;241m.\u001B[39mtype \u001B[38;5;129;01min\u001B[39;00m secondary_sort):\n\u001B[1;32m   1326\u001B[0m     \u001B[38;5;28;01mreturn\u001B[39;00m (secondary_sort[event1\u001B[38;5;241m.\u001B[39mtype](event1) \u001B[38;5;241m-\u001B[39m\n\u001B[1;32m   1327\u001B[0m             secondary_sort[event2\u001B[38;5;241m.\u001B[39mtype](event2))\n\u001B[1;32m   1328\u001B[0m \u001B[38;5;66;03m# Otherwise, just return the difference of their ticks.\u001B[39;00m\n",
      "\u001B[0;31mKeyboardInterrupt\u001B[0m: "
     ]
    }
   ],
   "source": [
    "import os\n",
    "from tqdm import tqdm\n",
    "count=0\n",
    "src_folder=\"./ultimate_dataset_16_one_drum/\"\n",
    "tgt_folder=\"./ultimate_dataset_16_one_drum_v2/\"\n",
    "for _,_,filenames in os.walk(src_folder):\n",
    "    for filename in tqdm(filenames,desc=\"processing\",unit=\"midi\"):\n",
    "        midi_data=program_change(f\"{src_folder}{filename}\")\n",
    "        midi_data.write(f\"{tgt_folder}{filename}\")\n",
    "        count=count+1\n",
    "count"
   ]
  },
  {
   "cell_type": "code",
   "execution_count": 42,
   "outputs": [
    {
     "name": "stderr",
     "output_type": "stream",
     "text": [
      "processing: 100%|██████████| 7338/7338 [2:31:53<00:00,  1.24s/midi]  \n"
     ]
    },
    {
     "data": {
      "text/plain": "7065"
     },
     "execution_count": 42,
     "metadata": {},
     "output_type": "execute_result"
    }
   ],
   "source": [
    "from tempo_adjustment import tempo_adjustment\n",
    "from note_alignment import note_alignment_16\n",
    "src_folder = \"./ultimate_dataset_16_one_drum_v2/\"\n",
    "tgt_folder = \"./HMuseData/\"\n",
    "program_dict={0:'Piano',\n",
    "             24:'Nylon Guitar',\n",
    "             27:'Voiceless Electric Guitar',\n",
    "             30:'Distorted Electric Guitar',\n",
    "             33:'Finger Bass',\n",
    "             36:'Slap Bass'}\n",
    "count=0\n",
    "for _, _, filenames in os.walk(src_folder):\n",
    "     for filename in tqdm(filenames, desc=\"processing\", unit=\"midi\"):\n",
    "         midi_data =pretty_midi.PrettyMIDI(f\"{src_folder}{filename}\")\n",
    "         tgt_midi_data=pretty_midi.PrettyMIDI()\n",
    "         bpm=round(midi_data.get_tempo_changes()[1][0])\n",
    "         for track in midi_data.instruments:\n",
    "             if track.is_drum:\n",
    "                 track.name=\"Drum\"\n",
    "                 tgt_midi_data.instruments.append(track)\n",
    "             elif track.program in program_dict.keys():\n",
    "                 track.name=program_dict[track.program]\n",
    "                 tgt_midi_data.instruments.append(track)\n",
    "         if len(tgt_midi_data.instruments)>=2:\n",
    "             count=count+1\n",
    "             tgt_midi_data.write(f\"{tgt_folder}{filename}\")\n",
    "             tempo_adjustment(f\"{tgt_folder}{filename}\",f\"{tgt_folder}{filename}\",bpm)\n",
    "             midi_data =note_alignment_16(f\"{tgt_folder}{filename}\")\n",
    "             midi_data.write(f\"{tgt_folder}{filename}\")\n",
    "count"
   ],
   "metadata": {
    "collapsed": false,
    "ExecuteTime": {
     "end_time": "2023-12-25T09:42:00.713453Z",
     "start_time": "2023-12-25T07:10:06.771829Z"
    }
   },
   "id": "ee0083cf9df984f0"
  },
  {
   "cell_type": "code",
   "execution_count": 22,
   "outputs": [
    {
     "data": {
      "text/plain": "True"
     },
     "execution_count": 22,
     "metadata": {},
     "output_type": "execute_result"
    }
   ],
   "source": [
    "program_dict={0:'Piano',\n",
    "             24:'Nylon Guitar',\n",
    "             27:'Voiceless Electric Guitar',\n",
    "             30:'Distorted Electric Guitar',\n",
    "             33:'Finger Bass',\n",
    "             36:'Slap Bass'}\n",
    "24 in program_dict.keys()"
   ],
   "metadata": {
    "collapsed": false,
    "ExecuteTime": {
     "end_time": "2023-12-25T04:48:02.272475Z",
     "start_time": "2023-12-25T04:48:02.269928Z"
    }
   },
   "id": "3a6234f962ec6a7c"
  },
  {
   "cell_type": "code",
   "execution_count": 32,
   "outputs": [],
   "source": [
    "src_folder = \"./ultimate_dataset_16_one_drum_v2/\"\n",
    "midi_data=pretty_midi.PrettyMIDI(f\"{src_folder}7.mid\")"
   ],
   "metadata": {
    "collapsed": false,
    "ExecuteTime": {
     "end_time": "2023-12-25T06:23:57.736771Z",
     "start_time": "2023-12-25T06:23:57.637767Z"
    }
   },
   "id": "acc81ebe9b05f082"
  },
  {
   "cell_type": "code",
   "execution_count": 36,
   "outputs": [
    {
     "data": {
      "text/plain": "125.0"
     },
     "execution_count": 36,
     "metadata": {},
     "output_type": "execute_result"
    }
   ],
   "source": [
    "midi_data.get_tempo_changes()[1][0]"
   ],
   "metadata": {
    "collapsed": false,
    "ExecuteTime": {
     "end_time": "2023-12-25T06:24:24.769321Z",
     "start_time": "2023-12-25T06:24:24.765838Z"
    }
   },
   "id": "69336d8f949d80d0"
  },
  {
   "cell_type": "code",
   "execution_count": 40,
   "outputs": [],
   "source": [
    "tempo_adjustment(\"xx.mid\",\"xx.mid\",200)"
   ],
   "metadata": {
    "collapsed": false,
    "ExecuteTime": {
     "end_time": "2023-12-25T06:30:48.800549Z",
     "start_time": "2023-12-25T06:30:48.732082Z"
    }
   },
   "id": "ce591f7fcccde8f7"
  },
  {
   "cell_type": "code",
   "execution_count": null,
   "outputs": [],
   "source": [
    "4977"
   ],
   "metadata": {
    "collapsed": false
   },
   "id": "f916c88108b56544"
  }
 ],
 "metadata": {
  "kernelspec": {
   "display_name": "Python 3 (ipykernel)",
   "language": "python",
   "name": "python3"
  },
  "language_info": {
   "codemirror_mode": {
    "name": "ipython",
    "version": 3
   },
   "file_extension": ".py",
   "mimetype": "text/x-python",
   "name": "python",
   "nbconvert_exporter": "python",
   "pygments_lexer": "ipython3",
   "version": "3.11.4"
  }
 },
 "nbformat": 4,
 "nbformat_minor": 5
}
