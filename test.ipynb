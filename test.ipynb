{
 "cells": [
  {
   "cell_type": "code",
   "execution_count": 1,
   "id": "initial_id",
   "metadata": {
    "collapsed": true,
    "ExecuteTime": {
     "end_time": "2023-12-23T06:37:41.272226Z",
     "start_time": "2023-12-23T06:37:41.208350Z"
    }
   },
   "outputs": [],
   "source": [
    "import pretty_midi"
   ]
  },
  {
   "cell_type": "code",
   "execution_count": 22,
   "outputs": [],
   "source": [
    "src_folder='./ultimate_aligned_dataset_16/'"
   ],
   "metadata": {
    "collapsed": false,
    "ExecuteTime": {
     "end_time": "2023-12-23T07:11:04.031037Z",
     "start_time": "2023-12-23T07:11:04.028485Z"
    }
   },
   "id": "86c50898b7a89b76"
  },
  {
   "cell_type": "code",
   "execution_count": 30,
   "outputs": [
    {
     "data": {
      "text/plain": "[Instrument(program=65, is_drum=False, name=\"Melody\"),\n Instrument(program=62, is_drum=False, name=\"Backround Vocals\"),\n Instrument(program=63, is_drum=False, name=\"Backround Vocals\"),\n Instrument(program=1, is_drum=False, name=\"Piano\"),\n Instrument(program=36, is_drum=False, name=\"Bass\"),\n Instrument(program=28, is_drum=False, name=\"Guitar\"),\n Instrument(program=48, is_drum=False, name=\"Strings\"),\n Instrument(program=48, is_drum=False, name=\"Strings\"),\n Instrument(program=37, is_drum=False, name=\"Slap Bass\"),\n Instrument(program=0, is_drum=True, name=\"Drums\")]"
     },
     "execution_count": 30,
     "metadata": {},
     "output_type": "execute_result"
    }
   ],
   "source": [
    "midi_data=pretty_midi.PrettyMIDI(f\"{src_folder}0.mid\")\n",
    "midi_data.instruments"
   ],
   "metadata": {
    "collapsed": false,
    "ExecuteTime": {
     "end_time": "2023-12-23T08:20:18.836120Z",
     "start_time": "2023-12-23T08:20:18.758881Z"
    }
   },
   "id": "618f72a9c986b417"
  },
  {
   "cell_type": "code",
   "execution_count": 32,
   "outputs": [],
   "source": [
    "midi_data.instruments[0].program=0"
   ],
   "metadata": {
    "collapsed": false,
    "ExecuteTime": {
     "end_time": "2023-12-23T08:21:14.243849Z",
     "start_time": "2023-12-23T08:21:14.242118Z"
    }
   },
   "id": "d58c7a79409e5310"
  },
  {
   "cell_type": "code",
   "execution_count": 33,
   "outputs": [],
   "source": [
    "midi_data.write(\"xx.mid\")"
   ],
   "metadata": {
    "collapsed": false,
    "ExecuteTime": {
     "end_time": "2023-12-23T08:21:19.803828Z",
     "start_time": "2023-12-23T08:21:19.647300Z"
    }
   },
   "id": "48f0bdd1e36c8e3a"
  },
  {
   "cell_type": "code",
   "execution_count": null,
   "outputs": [],
   "source": [],
   "metadata": {
    "collapsed": false
   },
   "id": "2c7cd9d728465f84"
  }
 ],
 "metadata": {
  "kernelspec": {
   "display_name": "Python 3",
   "language": "python",
   "name": "python3"
  },
  "language_info": {
   "codemirror_mode": {
    "name": "ipython",
    "version": 2
   },
   "file_extension": ".py",
   "mimetype": "text/x-python",
   "name": "python",
   "nbconvert_exporter": "python",
   "pygments_lexer": "ipython2",
   "version": "2.7.6"
  }
 },
 "nbformat": 4,
 "nbformat_minor": 5
}
