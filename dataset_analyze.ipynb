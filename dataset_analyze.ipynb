{
 "cells": [
  {
   "cell_type": "code",
   "execution_count": 2,
   "id": "93be9e3e-f406-449f-b009-297ff06ecc65",
   "metadata": {},
   "outputs": [
    {
     "name": "stdout",
     "output_type": "stream",
     "text": [
      "Track 0: 0000-00708091.MID\n",
      "Track 1: 0100-EX\n",
      "Track 2: EF\n",
      "Track 3: 1109-DRUMS 1\n",
      "program_change channel=9 program=0 time=1\n",
      "Track 4: 110A-DRUMS2\n",
      "program_change channel=9 program=0 time=1\n",
      "Track 5: 1501-BASS\n",
      "program_change channel=1 program=33 time=1\n",
      "Track 6: 1303-MELODY 1\n",
      "program_change channel=3 program=73 time=1\n",
      "Track 7: 1604-PIANO\n",
      "program_change channel=4 program=1 time=1\n",
      "Track 8: 1605-SAX\n",
      "program_change channel=5 program=65 time=1\n",
      "Track 9: 1606-STR\n",
      "program_change channel=6 program=48 time=1\n",
      "Track 10: 1607-GT1\n",
      "program_change channel=7 program=25 time=1\n",
      "Track 11: 1608-OVGT\n",
      "program_change channel=8 program=29 time=1\n",
      "Track 12: 1600-SOLOGT\n",
      "program_change channel=0 program=30 time=1\n",
      "Track 13: 160B-GT2\n",
      "program_change channel=11 program=30 time=1\n",
      "Track 14: 160C-STR2\n",
      "program_change channel=12 program=48 time=1\n",
      "Track 15: 160D-SOLOGT2\n",
      "program_change channel=13 program=30 time=1\n",
      "Track 16: 160E-PIANO2\n",
      "program_change channel=14 program=4 time=1\n",
      "Track 17: 160F-PAD\n",
      "program_change channel=15 program=94 time=1\n"
     ]
    }
   ],
   "source": [
    "import os\n",
    "import shutil\n",
    "import mido\n",
    "# 源文件夹路径\n",
    "source_folder = './tgt_dataset/'\n",
    "\n",
    "for root,folders,files in os.walk(source_folder):\n",
    "    for filename in files:\n",
    "        if filename=='5.mid':  # 检查文件后缀是否为.mid\n",
    "            mid = mido.MidiFile(f\"{source_folder}{filename}\")\n",
    "            for i, track in enumerate(mid.tracks):#enumerate()：创建索引序列，索引初始为0\n",
    "                print('Track {}: {}'.format(i, track.name))\n",
    "                for msg in track:#每个音轨的消息遍历\n",
    "                    if msg.type=='program_change':\n",
    "                        print(msg)"
   ]
  },
  {
   "cell_type": "code",
   "execution_count": 1,
   "id": "24fea979-b89b-410e-91f0-611c9295f19d",
   "metadata": {},
   "outputs": [],
   "source": [
    "#统计一个midi文件中使用的乐器（音色）种类数\n",
    "def count_instruments(midiFile_path):\n",
    "    instruments_set=set() #使用集合防止同一种乐器被记录两次\n",
    "    mid = mido.MidiFile(midiFile_path)\n",
    "    for i, track in enumerate(mid.tracks):\n",
    "        for msg in track:#每个音轨的消息遍历\n",
    "            #鼓的轨道默认为9较为特殊因此单独处理\n",
    "            #先处理非鼓的轨道\n",
    "            if msg.type=='program_change' and msg.channel!=9: \n",
    "                instruments_set.add((msg.program))\n",
    "            #再处理鼓的轨道\n",
    "            if msg.type=='program_change' and msg.channel==9: \n",
    "                instruments_set.add(-1) #-1代表使用了乐器鼓\n",
    "    return len(instruments_set)"
   ]
  },
  {
   "cell_type": "code",
   "execution_count": 4,
   "id": "90c43410-a65a-42c1-bc4e-44aa7b86b290",
   "metadata": {},
   "outputs": [
    {
     "name": "stdout",
     "output_type": "stream",
     "text": [
      "1\n"
     ]
    }
   ],
   "source": [
    "try:\n",
    "    count_instruments(f\"{source_folder}110753.mid\")\n",
    "except:\n",
    "    print(1)"
   ]
  },
  {
   "cell_type": "code",
   "execution_count": 5,
   "id": "1ba2a974-7d0b-426d-bb50-d88d2526db9f",
   "metadata": {},
   "outputs": [
    {
     "name": "stderr",
     "output_type": "stream",
     "text": [
      "Processing: 100%|███████████████████| 244358/244358 [1:55:26<00:00, 35.28midi/s]"
     ]
    },
    {
     "name": "stdout",
     "output_type": "stream",
     "text": [
      "9184\n"
     ]
    },
    {
     "name": "stderr",
     "output_type": "stream",
     "text": [
      "\n"
     ]
    }
   ],
   "source": [
    "from tqdm import tqdm\n",
    "\n",
    "source_folder = './tgt_dataset/'\n",
    "\n",
    "all_instruments=[]\n",
    "errors=0\n",
    "for root,folders,files in os.walk(source_folder):\n",
    "    for filename in tqdm(files, desc=\"Processing\", unit=\"midi\"):\n",
    "        try:\n",
    "            all_instruments.append(count_instruments(f\"{source_folder}{filename}\"))\n",
    "        except:\n",
    "            errors=errors+1\n",
    "print(errors)"
   ]
  },
  {
   "cell_type": "code",
   "execution_count": 21,
   "id": "80f900c1-ec5f-470c-99d4-49edfe3cff3c",
   "metadata": {},
   "outputs": [
    {
     "data": {
      "image/png": "[encoded data removed]",
      "text/plain": [
       "<Figure size 640x480 with 1 Axes>"
      ]
     },
     "metadata": {},
     "output_type": "display_data"
    },
    {
     "data": {
      "text/plain": [
       "[(0, 13085),\n",
       " (1, 27551),\n",
       " (2, 8238),\n",
       " (3, 10133),\n",
       " (4, 14982),\n",
       " (5, 19455),\n",
       " (6, 20724),\n",
       " (7, 21393),\n",
       " (8, 21336),\n",
       " (9, 19258),\n",
       " (10, 16473),\n",
       " (11, 12511),\n",
       " (12, 9901),\n",
       " (13, 7040),\n",
       " (14, 5234),\n",
       " (15, 3082),\n",
       " (16, 1796),\n",
       " (17, 726),\n",
       " (18, 502),\n",
       " (19, 376),\n",
       " (20, 310),\n",
       " (21, 200),\n",
       " (22, 204),\n",
       " (23, 99),\n",
       " (24, 76),\n",
       " (25, 86),\n",
       " (26, 86),\n",
       " (27, 20),\n",
       " (28, 54),\n",
       " (29, 67),\n",
       " (30, 18),\n",
       " (31, 23),\n",
       " (32, 12),\n",
       " (33, 35),\n",
       " (34, 20),\n",
       " (35, 5),\n",
       " (36, 15),\n",
       " (37, 3),\n",
       " (38, 16),\n",
       " (39, 1),\n",
       " (43, 2),\n",
       " (44, 6),\n",
       " (46, 8),\n",
       " (50, 3),\n",
       " (51, 1),\n",
       " (61, 2),\n",
       " (62, 4),\n",
       " (87, 2)]"
      ]
     },
     "execution_count": 21,
     "metadata": {},
     "output_type": "execute_result"
    }
   ],
   "source": [
    "from collections import Counter\n",
    "import matplotlib.pyplot as plt\n",
    "instrument_counts=Counter(all_instruments)\n",
    "keys=list(instrument_counts.keys())\n",
    "values=list(instrument_counts.values())\n",
    "\n",
    "plt.bar(keys, values)\n",
    "plt.xlim(0, 40)\n",
    "\n",
    "# 显示柱状图\n",
    "plt.show()\n",
    "sorted_instrument_counts=sorted(instrument_counts.items())\n",
    "sorted_instrument_counts"
   ]
  },
  {
   "cell_type": "code",
   "execution_count": 50,
   "id": "9be5c3a1-13e6-4fee-80f3-cc612d2c710e",
   "metadata": {},
   "outputs": [
    {
     "name": "stdout",
     "output_type": "stream",
     "text": [
      "156407\n"
     ]
    },
    {
     "data": {
      "text/plain": [
       "[19455, 20724, 21393, 21336, 19258, 16473, 12511, 9901, 7040, 5234, 3082]"
      ]
     },
     "execution_count": 50,
     "metadata": {},
     "output_type": "execute_result"
    }
   ],
   "source": [
    "tgt_midi=[item[1] for item in sorted_instrument_counts]\n",
    "print(sum(tgt_midi[5:16]))"
   ]
  },
  {
   "cell_type": "code",
   "execution_count": 3,
   "id": "ecefad7c-ba7e-4811-a4fe-359835f54759",
   "metadata": {},
   "outputs": [
    {
     "name": "stderr",
     "output_type": "stream",
     "text": [
      "Processing: 100%|███████████████████| 244358/244358 [1:51:47<00:00, 36.43midi/s]"
     ]
    },
    {
     "name": "stdout",
     "output_type": "stream",
     "text": [
      "156407\n"
     ]
    },
    {
     "name": "stderr",
     "output_type": "stream",
     "text": [
      "\n"
     ]
    }
   ],
   "source": [
    "import os\n",
    "import shutil\n",
    "import mido\n",
    "from tqdm import tqdm\n",
    "\n",
    "source_folder = './tgt_dataset/'\n",
    "tgt_folder='./tgt_dataset_v2/'\n",
    "\n",
    "i=0\n",
    "for root,folders,files in os.walk(source_folder):\n",
    "    for filename in tqdm(files, desc=\"Processing\", unit=\"midi\"):\n",
    "        try:\n",
    "            source_file=f\"{source_folder}{filename}\"\n",
    "            destination_file = f\"{tgt_folder}{i}.mid\"\n",
    "            instruments_num=count_instruments(source_file)\n",
    "            if instruments_num>=5 and instruments_num<=15:\n",
    "                shutil.copy(source_file, destination_file)\n",
    "                i=i+1\n",
    "        except:\n",
    "            pass\n",
    "print(i)"
   ]
  },
  {
   "cell_type": "code",
   "execution_count": null,
   "id": "c182f2b0-119f-4724-b523-3cf776e54e41",
   "metadata": {},
   "outputs": [],
   "source": []
  }
 ],
 "metadata": {
  "kernelspec": {
   "display_name": "Python 3 (ipykernel)",
   "language": "python",
   "name": "python3"
  },
  "language_info": {
   "codemirror_mode": {
    "name": "ipython",
    "version": 3
   },
   "file_extension": ".py",
   "mimetype": "text/x-python",
   "name": "python",
   "nbconvert_exporter": "python",
   "pygments_lexer": "ipython3",
   "version": "3.10.9"
  },
  "widgets": {
   "application/vnd.jupyter.widget-state+json": {
    "state": {},
    "version_major": 2,
    "version_minor": 0
   }
  }
 },
 "nbformat": 4,
 "nbformat_minor": 5
}
